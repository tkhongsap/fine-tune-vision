{
 "cells": [
  {
   "cell_type": "code",
   "execution_count": 1,
   "id": "15dd53a8",
   "metadata": {},
   "outputs": [],
   "source": [
    "# Standard library imports\n",
    "import json\n",
    "import os\n",
    "import random\n",
    "import time\n",
    "from io import BytesIO\n",
    "from pathlib import Path\n",
    "\n",
    "# Third-party imports\n",
    "import pandas as pd\n",
    "import requests\n",
    "from PIL import Image\n",
    "\n",
    "# Local imports\n",
    "from system_prompt import get_system_prompt\n",
    "\n",
    "from datasets import load_dataset\n",
    "\n",
    "# load dataset from local cache\n",
    "cache_dir = os.path.join('cached_datasets')\n",
    "ds = load_dataset(\"howard-hou/OCR-VQA\", cache_dir=cache_dir)"
   ]
  },
  {
   "cell_type": "code",
   "execution_count": 2,
   "id": "f53b894b",
   "metadata": {},
   "outputs": [
    {
     "name": "stdout",
     "output_type": "stream",
     "text": [
      "Dataset splits: dict_keys(['train', 'validation', 'test'])\n",
      "\n",
      "Features in each split:\n",
      "\n",
      "train split features:\n",
      "{'image': Image(mode=None, decode=True, id=None), 'image_id': Value(dtype='string', id=None), 'questions': Sequence(feature=Value(dtype='string', id=None), length=-1, id=None), 'answers': Sequence(feature=Value(dtype='string', id=None), length=-1, id=None), 'ocr_tokens': Sequence(feature=Value(dtype='string', id=None), length=-1, id=None), 'ocr_info': [{'word': Value(dtype='string', id=None), 'bounding_box': {'width': Value(dtype='float64', id=None), 'height': Value(dtype='float64', id=None), 'top_left_x': Value(dtype='float64', id=None), 'top_left_y': Value(dtype='float64', id=None)}}], 'title': Value(dtype='string', id=None), 'authorName': Value(dtype='string', id=None), 'genre': Value(dtype='string', id=None), 'image_width': Value(dtype='int64', id=None), 'image_height': Value(dtype='int64', id=None), 'image_url': Value(dtype='string', id=None), 'set_name': Value(dtype='string', id=None)}\n",
      "\n",
      "validation split features:\n",
      "{'image': Image(mode=None, decode=True, id=None), 'image_id': Value(dtype='string', id=None), 'questions': Sequence(feature=Value(dtype='string', id=None), length=-1, id=None), 'answers': Sequence(feature=Value(dtype='string', id=None), length=-1, id=None), 'ocr_tokens': Sequence(feature=Value(dtype='string', id=None), length=-1, id=None), 'ocr_info': [{'word': Value(dtype='string', id=None), 'bounding_box': {'width': Value(dtype='float64', id=None), 'height': Value(dtype='float64', id=None), 'top_left_x': Value(dtype='float64', id=None), 'top_left_y': Value(dtype='float64', id=None)}}], 'title': Value(dtype='string', id=None), 'authorName': Value(dtype='string', id=None), 'genre': Value(dtype='string', id=None), 'image_width': Value(dtype='int64', id=None), 'image_height': Value(dtype='int64', id=None), 'image_url': Value(dtype='string', id=None), 'set_name': Value(dtype='string', id=None)}\n",
      "\n",
      "test split features:\n",
      "{'image': Image(mode=None, decode=True, id=None), 'image_id': Value(dtype='string', id=None), 'questions': Sequence(feature=Value(dtype='string', id=None), length=-1, id=None), 'answers': Sequence(feature=Value(dtype='string', id=None), length=-1, id=None), 'ocr_tokens': Sequence(feature=Value(dtype='string', id=None), length=-1, id=None), 'ocr_info': [{'word': Value(dtype='string', id=None), 'bounding_box': {'width': Value(dtype='float64', id=None), 'height': Value(dtype='float64', id=None), 'top_left_x': Value(dtype='float64', id=None), 'top_left_y': Value(dtype='float64', id=None)}}], 'title': Value(dtype='string', id=None), 'authorName': Value(dtype='string', id=None), 'genre': Value(dtype='string', id=None), 'image_width': Value(dtype='int64', id=None), 'image_height': Value(dtype='int64', id=None), 'image_url': Value(dtype='string', id=None), 'set_name': Value(dtype='string', id=None)}\n",
      "\n",
      "Number of examples in each split:\n",
      "train: 166022 examples\n",
      "validation: 20731 examples\n",
      "test: 20796 examples\n",
      "\n",
      "Sample example from each split:\n",
      "\n",
      "train split sample:\n",
      "Keys: dict_keys(['image', 'image_id', 'questions', 'answers', 'ocr_tokens', 'ocr_info', 'title', 'authorName', 'genre', 'image_width', 'image_height', 'image_url', 'set_name'])\n",
      "Question: Who wrote this book?\n",
      "Answer: David MACAULAY\n",
      "OCR tokens: ['under', 'ground', 'david', 'macaulay']\n",
      "\n",
      "validation split sample:\n",
      "Keys: dict_keys(['image', 'image_id', 'questions', 'answers', 'ocr_tokens', 'ocr_info', 'title', 'authorName', 'genre', 'image_width', 'image_height', 'image_url', 'set_name'])\n",
      "Question: Who wrote this book?\n",
      "Answer: Philip Marsden\n",
      "OCR tokens: ['the', 'bronskihouse', 'philip', 'mar', 'sden']\n",
      "\n",
      "test split sample:\n",
      "Keys: dict_keys(['image', 'image_id', 'questions', 'answers', 'ocr_tokens', 'ocr_info', 'title', 'authorName', 'genre', 'image_width', 'image_height', 'image_url', 'set_name'])\n",
      "Question: Who wrote this book?\n",
      "Answer: The Times Mind Games\n",
      "OCR tokens: ['the', '', 'times', 'book', 'sul']\n"
     ]
    }
   ],
   "source": [
    "\n",
    "\n",
    "\n",
    "\n",
    "\n",
    "\n",
    "# View dataset structure and basic information\n",
    "print(\"Dataset splits:\", ds.keys())\n",
    "print(\"\\nFeatures in each split:\")\n",
    "for split in ds.keys():\n",
    "    print(f\"\\n{split} split features:\")\n",
    "    print(ds[split].features)\n",
    "    \n",
    "# Get basic statistics\n",
    "print(\"\\nNumber of examples in each split:\")\n",
    "for split in ds.keys():\n",
    "    print(f\"{split}: {len(ds[split])} examples\")\n",
    "\n",
    "# View a sample example from each split\n",
    "print(\"\\nSample example from each split:\")\n",
    "for split in ds.keys():\n",
    "    print(f\"\\n{split} split sample:\")\n",
    "    sample = ds[split][0]\n",
    "    print(\"Keys:\", sample.keys())\n",
    "    print(\"Question:\", sample['questions'][0])\n",
    "    print(\"Answer:\", sample['answers'][0])\n",
    "    print(\"OCR tokens:\", sample['ocr_tokens'][:5])  # First 5 tokens\n"
   ]
  },
  {
   "cell_type": "code",
   "execution_count": null,
   "id": "673bfd3e",
   "metadata": {},
   "outputs": [],
   "source": []
  }
 ],
 "metadata": {
  "kernelspec": {
   "display_name": "base",
   "language": "python",
   "name": "python3"
  },
  "language_info": {
   "codemirror_mode": {
    "name": "ipython",
    "version": 3
   },
   "file_extension": ".py",
   "mimetype": "text/x-python",
   "name": "python",
   "nbconvert_exporter": "python",
   "pygments_lexer": "ipython3",
   "version": "3.12.7"
  }
 },
 "nbformat": 4,
 "nbformat_minor": 5
}
