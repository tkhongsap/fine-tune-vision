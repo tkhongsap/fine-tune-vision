{
 "cells": [
  {
   "cell_type": "markdown",
   "id": "12a639af",
   "metadata": {},
   "source": [
    "### Vision Fine-tuning on GPT-4.1"
   ]
  },
  {
   "cell_type": "code",
   "execution_count": 1,
   "id": "15dd53a8",
   "metadata": {},
   "outputs": [
    {
     "ename": "NameError",
     "evalue": "name '__file__' is not defined",
     "output_type": "error",
     "traceback": [
      "\u001b[1;31m---------------------------------------------------------------------------\u001b[0m",
      "\u001b[1;31mNameError\u001b[0m                                 Traceback (most recent call last)",
      "Cell \u001b[1;32mIn[1], line 30\u001b[0m\n\u001b[0;32m     27\u001b[0m     \u001b[38;5;28;01mreturn\u001b[39;00m pd\u001b[38;5;241m.\u001b[39mDataFrame(records)\n\u001b[0;32m     29\u001b[0m \u001b[38;5;66;03m# Using Path to handle relative paths correctly - going up one directory then to claim-img\u001b[39;00m\n\u001b[1;32m---> 30\u001b[0m script_dir \u001b[38;5;241m=\u001b[39m Path(\u001b[38;5;18m__file__\u001b[39m)\u001b[38;5;241m.\u001b[39mparent\n\u001b[0;32m     31\u001b[0m img_dir \u001b[38;5;241m=\u001b[39m script_dir\u001b[38;5;241m.\u001b[39mparent \u001b[38;5;241m/\u001b[39m \u001b[38;5;124m\"\u001b[39m\u001b[38;5;124mclaim-img\u001b[39m\u001b[38;5;124m\"\u001b[39m\n\u001b[0;32m     32\u001b[0m df \u001b[38;5;241m=\u001b[39m build_df(img_dir)\n",
      "\u001b[1;31mNameError\u001b[0m: name '__file__' is not defined"
     ]
    }
   ],
   "source": [
    "import base64, cv2, json, random, os\n",
    "from pathlib import Path\n",
    "from PIL import Image\n",
    "import pandas as pd\n",
    "from sklearn.model_selection import train_test_split\n",
    "from tqdm import tqdm\n",
    "\n",
    "\n",
    "def build_df(img_dir: Path):\n",
    "    records = []\n",
    "    \n",
    "    # We now know the folder structure is more complex with nested folders\n",
    "    for label_dir_name in [\"claimed\", \"unclaimed\"]:\n",
    "        label_dir = img_dir / label_dir_name\n",
    "        if not label_dir.exists():\n",
    "            print(f\"Directory {label_dir} doesn't exist\")\n",
    "            continue\n",
    "            \n",
    "        # Recursively find all image files under this label directory\n",
    "        for root, dirs, files in os.walk(label_dir):\n",
    "            root_path = Path(root)\n",
    "            for file in files:\n",
    "                if file.lower().endswith(('.jpg', '.jpeg', '.png')):\n",
    "                    file_path = root_path / file\n",
    "                    records.append({\"path\": str(file_path), \"label\": label_dir_name})\n",
    "    \n",
    "    return pd.DataFrame(records)\n",
    "\n",
    "# Using Path to handle relative paths correctly - going up one directory then to claim-img\n",
    "script_dir = Path.cwd()  # Use current working directory in notebooks\n",
    "img_dir = script_dir.parent / \"claim-img\"\n",
    "df = build_df(img_dir)\n",
    "\n",
    "# Debug print to see if we're getting data\n",
    "print(f\"Found {len(df)} images\")\n",
    "if len(df) > 0:\n",
    "    print(\"Sample data:\")\n",
    "    print(df.head())\n",
    "    \n",
    "    # Print label distribution\n",
    "    label_counts = df[\"label\"].value_counts()\n",
    "    print(\"\\nLabel distribution:\")\n",
    "    for label, count in label_counts.items():\n",
    "        percentage = count/len(df)*100\n",
    "        print(f\"{label}: {count} images ({percentage:.1f}%)\")\n",
    "\n",
    "    # 70 / 20 / 10 split – but ALWAYS stratified by label\n",
    "    train_df, tmp_df = train_test_split(df, test_size=0.30, stratify=df[\"label\"], random_state=42)\n",
    "    val_df, test_df  = train_test_split(tmp_df, test_size=1/3, stratify=tmp_df[\"label\"], random_state=42)\n",
    "\n",
    "    print(f\"\\nData split statistics:\")\n",
    "    print(f\"train: {len(train_df)} images ({len(train_df)/len(df)*100:.1f}%)\")\n",
    "    print(f\"val: {len(val_df)} images ({len(val_df)/len(df)*100:.1f}%)\")\n",
    "    print(f\"test: {len(test_df)} images ({len(test_df)/len(df)*100:.1f}%)\")\n",
    "    \n",
    "    # Print label distribution in each split\n",
    "    print(\"\\nTrain set label distribution:\")\n",
    "    train_label_counts = train_df[\"label\"].value_counts()\n",
    "    for label, count in train_label_counts.items():\n",
    "        percentage = count/len(train_df)*100\n",
    "        print(f\"{label}: {count} images ({percentage:.1f}%)\")\n",
    "    \n",
    "    print(\"\\nValidation set label distribution:\")\n",
    "    val_label_counts = val_df[\"label\"].value_counts()\n",
    "    for label, count in val_label_counts.items():\n",
    "        percentage = count/len(val_df)*100\n",
    "        print(f\"{label}: {count} images ({percentage:.1f}%)\")\n",
    "    \n",
    "    print(\"\\nTest set label distribution:\")\n",
    "    test_label_counts = test_df[\"label\"].value_counts()\n",
    "    for label, count in test_label_counts.items():\n",
    "        percentage = count/len(test_df)*100\n",
    "        print(f\"{label}: {count} images ({percentage:.1f}%)\")\n",
    "else:\n",
    "    print(\"No images found. Check the directory path and structure.\")\n",
    "    print(f\"Looking for images in: {img_dir}\")\n",
    "    print(f\"Does directory exist: {img_dir.exists()}\")\n",
    "    if img_dir.exists():\n",
    "        print(\"Directory contents:\")\n",
    "        for item in img_dir.iterdir():\n",
    "            print(f\"  - {item.name} ({'dir' if item.is_dir() else 'file'})\") "
   ]
  },
  {
   "cell_type": "code",
   "execution_count": null,
   "id": "41e8f1f6",
   "metadata": {},
   "outputs": [],
   "source": []
  }
 ],
 "metadata": {
  "kernelspec": {
   "display_name": "base",
   "language": "python",
   "name": "python3"
  },
  "language_info": {
   "codemirror_mode": {
    "name": "ipython",
    "version": 3
   },
   "file_extension": ".py",
   "mimetype": "text/x-python",
   "name": "python",
   "nbconvert_exporter": "python",
   "pygments_lexer": "ipython3",
   "version": "3.12.7"
  }
 },
 "nbformat": 4,
 "nbformat_minor": 5
}
